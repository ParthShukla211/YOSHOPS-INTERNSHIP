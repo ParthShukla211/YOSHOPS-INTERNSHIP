{
 "cells": [
  {
   "cell_type": "markdown",
   "id": "8d137795",
   "metadata": {},
   "source": [
    "# YOSHOPS INTERNSHIP TASK 2"
   ]
  },
  {
   "cell_type": "markdown",
   "id": "3f17b8db",
   "metadata": {},
   "source": [
    "## 1. Python program to Create a excel file"
   ]
  },
  {
   "cell_type": "code",
   "execution_count": 5,
   "id": "1c1ad660",
   "metadata": {
    "scrolled": true
   },
   "outputs": [
    {
     "name": "stdout",
     "output_type": "stream",
     "text": [
      "Collecting aspose-cells\n",
      "  Downloading aspose-cells-22.4.0.tar.gz (12.1 MB)\n",
      "     -------------------------------------- 12.1/12.1 MB 263.6 kB/s eta 0:00:00\n",
      "  Preparing metadata (setup.py): started\n",
      "  Preparing metadata (setup.py): finished with status 'done'\n",
      "Collecting JPype1>=1.2.1\n",
      "  Downloading JPype1-1.3.0.tar.gz (820 kB)\n",
      "     ------------------------------------ 820.3/820.3 KB 362.6 kB/s eta 0:00:00\n",
      "  Preparing metadata (setup.py): started\n",
      "  Preparing metadata (setup.py): finished with status 'done'\n",
      "Using legacy 'setup.py install' for aspose-cells, since package 'wheel' is not installed.\n",
      "Using legacy 'setup.py install' for JPype1, since package 'wheel' is not installed.\n",
      "Installing collected packages: JPype1, aspose-cells\n",
      "  Running setup.py install for JPype1: started\n",
      "  Running setup.py install for JPype1: finished with status 'error'\n"
     ]
    },
    {
     "name": "stderr",
     "output_type": "stream",
     "text": [
      "  error: subprocess-exited-with-error\n",
      "  \n",
      "  Running setup.py install for JPype1 did not run successfully.\n",
      "  exit code: 1\n",
      "  \n",
      "  [51 lines of output]\n",
      "  running install\n",
      "  running build\n",
      "  running build_py\n",
      "  creating build\n",
      "  creating build\\lib.win-amd64-3.10\n",
      "  creating build\\lib.win-amd64-3.10\\jpype\n",
      "  copying jpype\\beans.py -> build\\lib.win-amd64-3.10\\jpype\n",
      "  copying jpype\\config.py -> build\\lib.win-amd64-3.10\\jpype\n",
      "  copying jpype\\dbapi2.py -> build\\lib.win-amd64-3.10\\jpype\n",
      "  copying jpype\\imports.py -> build\\lib.win-amd64-3.10\\jpype\n",
      "  copying jpype\\nio.py -> build\\lib.win-amd64-3.10\\jpype\n",
      "  copying jpype\\pickle.py -> build\\lib.win-amd64-3.10\\jpype\n",
      "  copying jpype\\protocol.py -> build\\lib.win-amd64-3.10\\jpype\n",
      "  copying jpype\\types.py -> build\\lib.win-amd64-3.10\\jpype\n",
      "  copying jpype\\_classpath.py -> build\\lib.win-amd64-3.10\\jpype\n",
      "  copying jpype\\_core.py -> build\\lib.win-amd64-3.10\\jpype\n",
      "  copying jpype\\_gui.py -> build\\lib.win-amd64-3.10\\jpype\n",
      "  copying jpype\\_jarray.py -> build\\lib.win-amd64-3.10\\jpype\n",
      "  copying jpype\\_jclass.py -> build\\lib.win-amd64-3.10\\jpype\n",
      "  copying jpype\\_jcollection.py -> build\\lib.win-amd64-3.10\\jpype\n",
      "  copying jpype\\_jcustomizer.py -> build\\lib.win-amd64-3.10\\jpype\n",
      "  copying jpype\\_jexception.py -> build\\lib.win-amd64-3.10\\jpype\n",
      "  copying jpype\\_jinit.py -> build\\lib.win-amd64-3.10\\jpype\n",
      "  copying jpype\\_jio.py -> build\\lib.win-amd64-3.10\\jpype\n",
      "  copying jpype\\_jmethod.py -> build\\lib.win-amd64-3.10\\jpype\n",
      "  copying jpype\\_jobject.py -> build\\lib.win-amd64-3.10\\jpype\n",
      "  copying jpype\\_jpackage.py -> build\\lib.win-amd64-3.10\\jpype\n",
      "  copying jpype\\_jproxy.py -> build\\lib.win-amd64-3.10\\jpype\n",
      "  copying jpype\\_jstring.py -> build\\lib.win-amd64-3.10\\jpype\n",
      "  copying jpype\\_jthread.py -> build\\lib.win-amd64-3.10\\jpype\n",
      "  copying jpype\\_jvmfinder.py -> build\\lib.win-amd64-3.10\\jpype\n",
      "  copying jpype\\_pykeywords.py -> build\\lib.win-amd64-3.10\\jpype\n",
      "  copying jpype\\__init__.py -> build\\lib.win-amd64-3.10\\jpype\n",
      "  package init file 'jpype\\_pyinstaller\\__init__.py' not found (or not a regular file)\n",
      "  creating build\\lib.win-amd64-3.10\\jpype\\_pyinstaller\n",
      "  copying jpype\\_pyinstaller\\entry_points.py -> build\\lib.win-amd64-3.10\\jpype\\_pyinstaller\n",
      "  copying jpype\\_pyinstaller\\example.py -> build\\lib.win-amd64-3.10\\jpype\\_pyinstaller\n",
      "  copying jpype\\_pyinstaller\\hook-jpype.py -> build\\lib.win-amd64-3.10\\jpype\\_pyinstaller\n",
      "  copying jpype\\_pyinstaller\\test_jpype_pyinstaller.py -> build\\lib.win-amd64-3.10\\jpype\\_pyinstaller\n",
      "  copying jpype\\_core.pyi -> build\\lib.win-amd64-3.10\\jpype\n",
      "  copying jpype\\_jcollection.pyi -> build\\lib.win-amd64-3.10\\jpype\n",
      "  copying jpype\\_jio.pyi -> build\\lib.win-amd64-3.10\\jpype\n",
      "  copying jpype\\_jstring.pyi -> build\\lib.win-amd64-3.10\\jpype\n",
      "  copying jpype\\_jthread.pyi -> build\\lib.win-amd64-3.10\\jpype\n",
      "  running build_ext\n",
      "  Call build extensions\n",
      "  Using Jar cache\n",
      "  copying native\\jars\\org.jpype.jar -> build\\lib.win-amd64-3.10\n",
      "  Call build ext\n",
      "  building '_jpype' extension\n",
      "  error: Microsoft Visual C++ 14.0 or greater is required. Get it with \"Microsoft C++ Build Tools\": https://visualstudio.microsoft.com/visual-cpp-build-tools/\n",
      "  [end of output]\n",
      "  \n",
      "  note: This error originates from a subprocess, and is likely not a problem with pip.\n",
      "error: legacy-install-failure\n",
      "\n",
      "Encountered error while trying to install package.\n",
      "\n",
      "JPype1\n",
      "\n",
      "note: This is an issue with the package mentioned above, not pip.\n",
      "hint: See above for output from the failure.\n",
      "WARNING: You are using pip version 22.0.3; however, version 22.0.4 is available.\n",
      "You should consider upgrading via the 'C:\\Users\\Hp\\AppData\\Local\\Programs\\Python\\Python310\\python.exe -m pip install --upgrade pip' command.\n"
     ]
    },
    {
     "ename": "NameError",
     "evalue": "name 'Workbook' is not defined",
     "output_type": "error",
     "traceback": [
      "\u001b[1;31m---------------------------------------------------------------------------\u001b[0m",
      "\u001b[1;31mNameError\u001b[0m                                 Traceback (most recent call last)",
      "\u001b[1;32m<ipython-input-5-fae2e909c6a9>\u001b[0m in \u001b[0;36m<module>\u001b[1;34m\u001b[0m\n\u001b[0;32m      1\u001b[0m \u001b[0mget_ipython\u001b[0m\u001b[1;33m(\u001b[0m\u001b[1;33m)\u001b[0m\u001b[1;33m.\u001b[0m\u001b[0msystem\u001b[0m\u001b[1;33m(\u001b[0m\u001b[1;34m'pip install aspose-cells'\u001b[0m\u001b[1;33m)\u001b[0m\u001b[1;33m\u001b[0m\u001b[1;33m\u001b[0m\u001b[0m\n\u001b[0;32m      2\u001b[0m \u001b[1;31m# create a new XLSX workbook\u001b[0m\u001b[1;33m\u001b[0m\u001b[1;33m\u001b[0m\u001b[1;33m\u001b[0m\u001b[0m\n\u001b[1;32m----> 3\u001b[1;33m \u001b[0mwb\u001b[0m \u001b[1;33m=\u001b[0m \u001b[0mWorkbook\u001b[0m\u001b[1;33m(\u001b[0m\u001b[0mFileFormatType\u001b[0m\u001b[1;33m.\u001b[0m\u001b[0mXLSX\u001b[0m\u001b[1;33m)\u001b[0m\u001b[1;33m\u001b[0m\u001b[1;33m\u001b[0m\u001b[0m\n\u001b[0m\u001b[0;32m      4\u001b[0m \u001b[1;31m# insert value in the cells\u001b[0m\u001b[1;33m\u001b[0m\u001b[1;33m\u001b[0m\u001b[1;33m\u001b[0m\u001b[0m\n\u001b[0;32m      5\u001b[0m \u001b[0mwb\u001b[0m\u001b[1;33m.\u001b[0m\u001b[0mgetWorksheets\u001b[0m\u001b[1;33m(\u001b[0m\u001b[1;33m)\u001b[0m\u001b[1;33m.\u001b[0m\u001b[0mget\u001b[0m\u001b[1;33m(\u001b[0m\u001b[1;36m0\u001b[0m\u001b[1;33m)\u001b[0m\u001b[1;33m.\u001b[0m\u001b[0mgetCells\u001b[0m\u001b[1;33m(\u001b[0m\u001b[1;33m)\u001b[0m\u001b[1;33m.\u001b[0m\u001b[0mget\u001b[0m\u001b[1;33m(\u001b[0m\u001b[1;34m\"A1\"\u001b[0m\u001b[1;33m)\u001b[0m\u001b[1;33m.\u001b[0m\u001b[0mputValue\u001b[0m\u001b[1;33m(\u001b[0m\u001b[1;34m\"Hello World!\"\u001b[0m\u001b[1;33m)\u001b[0m\u001b[1;33m\u001b[0m\u001b[1;33m\u001b[0m\u001b[0m\n",
      "\u001b[1;31mNameError\u001b[0m: name 'Workbook' is not defined"
     ]
    }
   ],
   "source": [
    "# create a new XLSX workbook\n",
    "wb = Workbook(FileFormatType.XLSX)\n",
    "# insert value in the cells\n",
    "wb.getWorksheets().get(0).getCells().get(\"A1\").putValue(\"Hello World!\")\n",
    "# save workbook as .xlsx file\n",
    "wb.save(\"workbook.xlsx\")"
   ]
  },
  {
   "cell_type": "markdown",
   "id": "2d600e4e",
   "metadata": {},
   "source": [
    "## 2. Python program for Import data from an excel file "
   ]
  },
  {
   "cell_type": "code",
   "execution_count": 6,
   "id": "3c2ea5c9",
   "metadata": {},
   "outputs": [
    {
     "ename": "FileNotFoundError",
     "evalue": "[Errno 2] No such file or directory: 'Path where the Excel file is stored\\\\File name.xlsx'",
     "output_type": "error",
     "traceback": [
      "\u001b[1;31m---------------------------------------------------------------------------\u001b[0m",
      "\u001b[1;31mFileNotFoundError\u001b[0m                         Traceback (most recent call last)",
      "\u001b[1;32m<ipython-input-6-c8ace0e28584>\u001b[0m in \u001b[0;36m<module>\u001b[1;34m\u001b[0m\n\u001b[0;32m      1\u001b[0m \u001b[1;32mimport\u001b[0m \u001b[0mpandas\u001b[0m \u001b[1;32mas\u001b[0m \u001b[0mpd\u001b[0m\u001b[1;33m\u001b[0m\u001b[1;33m\u001b[0m\u001b[0m\n\u001b[0;32m      2\u001b[0m \u001b[1;33m\u001b[0m\u001b[0m\n\u001b[1;32m----> 3\u001b[1;33m \u001b[0mdf\u001b[0m \u001b[1;33m=\u001b[0m \u001b[0mpd\u001b[0m\u001b[1;33m.\u001b[0m\u001b[0mread_excel\u001b[0m \u001b[1;33m(\u001b[0m\u001b[1;34mr'Path where the Excel file is stored\\File name.xlsx'\u001b[0m\u001b[1;33m)\u001b[0m\u001b[1;33m\u001b[0m\u001b[1;33m\u001b[0m\u001b[0m\n\u001b[0m\u001b[0;32m      4\u001b[0m \u001b[0mprint\u001b[0m \u001b[1;33m(\u001b[0m\u001b[0mdf\u001b[0m\u001b[1;33m)\u001b[0m\u001b[1;33m\u001b[0m\u001b[1;33m\u001b[0m\u001b[0m\n",
      "\u001b[1;32mc:\\users\\hp\\appdata\\local\\programs\\python\\python37\\lib\\site-packages\\pandas\\util\\_decorators.py\u001b[0m in \u001b[0;36mwrapper\u001b[1;34m(*args, **kwargs)\u001b[0m\n\u001b[0;32m    297\u001b[0m                 )\n\u001b[0;32m    298\u001b[0m                 \u001b[0mwarnings\u001b[0m\u001b[1;33m.\u001b[0m\u001b[0mwarn\u001b[0m\u001b[1;33m(\u001b[0m\u001b[0mmsg\u001b[0m\u001b[1;33m,\u001b[0m \u001b[0mFutureWarning\u001b[0m\u001b[1;33m,\u001b[0m \u001b[0mstacklevel\u001b[0m\u001b[1;33m=\u001b[0m\u001b[0mstacklevel\u001b[0m\u001b[1;33m)\u001b[0m\u001b[1;33m\u001b[0m\u001b[1;33m\u001b[0m\u001b[0m\n\u001b[1;32m--> 299\u001b[1;33m             \u001b[1;32mreturn\u001b[0m \u001b[0mfunc\u001b[0m\u001b[1;33m(\u001b[0m\u001b[1;33m*\u001b[0m\u001b[0margs\u001b[0m\u001b[1;33m,\u001b[0m \u001b[1;33m**\u001b[0m\u001b[0mkwargs\u001b[0m\u001b[1;33m)\u001b[0m\u001b[1;33m\u001b[0m\u001b[1;33m\u001b[0m\u001b[0m\n\u001b[0m\u001b[0;32m    300\u001b[0m \u001b[1;33m\u001b[0m\u001b[0m\n\u001b[0;32m    301\u001b[0m         \u001b[1;32mreturn\u001b[0m \u001b[0mwrapper\u001b[0m\u001b[1;33m\u001b[0m\u001b[1;33m\u001b[0m\u001b[0m\n",
      "\u001b[1;32mc:\\users\\hp\\appdata\\local\\programs\\python\\python37\\lib\\site-packages\\pandas\\io\\excel\\_base.py\u001b[0m in \u001b[0;36mread_excel\u001b[1;34m(io, sheet_name, header, names, index_col, usecols, squeeze, dtype, engine, converters, true_values, false_values, skiprows, nrows, na_values, keep_default_na, na_filter, verbose, parse_dates, date_parser, thousands, comment, skipfooter, convert_float, mangle_dupe_cols, storage_options)\u001b[0m\n\u001b[0;32m    334\u001b[0m     \u001b[1;32mif\u001b[0m \u001b[1;32mnot\u001b[0m \u001b[0misinstance\u001b[0m\u001b[1;33m(\u001b[0m\u001b[0mio\u001b[0m\u001b[1;33m,\u001b[0m \u001b[0mExcelFile\u001b[0m\u001b[1;33m)\u001b[0m\u001b[1;33m:\u001b[0m\u001b[1;33m\u001b[0m\u001b[1;33m\u001b[0m\u001b[0m\n\u001b[0;32m    335\u001b[0m         \u001b[0mshould_close\u001b[0m \u001b[1;33m=\u001b[0m \u001b[1;32mTrue\u001b[0m\u001b[1;33m\u001b[0m\u001b[1;33m\u001b[0m\u001b[0m\n\u001b[1;32m--> 336\u001b[1;33m         \u001b[0mio\u001b[0m \u001b[1;33m=\u001b[0m \u001b[0mExcelFile\u001b[0m\u001b[1;33m(\u001b[0m\u001b[0mio\u001b[0m\u001b[1;33m,\u001b[0m \u001b[0mstorage_options\u001b[0m\u001b[1;33m=\u001b[0m\u001b[0mstorage_options\u001b[0m\u001b[1;33m,\u001b[0m \u001b[0mengine\u001b[0m\u001b[1;33m=\u001b[0m\u001b[0mengine\u001b[0m\u001b[1;33m)\u001b[0m\u001b[1;33m\u001b[0m\u001b[1;33m\u001b[0m\u001b[0m\n\u001b[0m\u001b[0;32m    337\u001b[0m     \u001b[1;32melif\u001b[0m \u001b[0mengine\u001b[0m \u001b[1;32mand\u001b[0m \u001b[0mengine\u001b[0m \u001b[1;33m!=\u001b[0m \u001b[0mio\u001b[0m\u001b[1;33m.\u001b[0m\u001b[0mengine\u001b[0m\u001b[1;33m:\u001b[0m\u001b[1;33m\u001b[0m\u001b[1;33m\u001b[0m\u001b[0m\n\u001b[0;32m    338\u001b[0m         raise ValueError(\n",
      "\u001b[1;32mc:\\users\\hp\\appdata\\local\\programs\\python\\python37\\lib\\site-packages\\pandas\\io\\excel\\_base.py\u001b[0m in \u001b[0;36m__init__\u001b[1;34m(self, path_or_buffer, engine, storage_options)\u001b[0m\n\u001b[0;32m   1070\u001b[0m             \u001b[1;32melse\u001b[0m\u001b[1;33m:\u001b[0m\u001b[1;33m\u001b[0m\u001b[1;33m\u001b[0m\u001b[0m\n\u001b[0;32m   1071\u001b[0m                 ext = inspect_excel_format(\n\u001b[1;32m-> 1072\u001b[1;33m                     \u001b[0mcontent\u001b[0m\u001b[1;33m=\u001b[0m\u001b[0mpath_or_buffer\u001b[0m\u001b[1;33m,\u001b[0m \u001b[0mstorage_options\u001b[0m\u001b[1;33m=\u001b[0m\u001b[0mstorage_options\u001b[0m\u001b[1;33m\u001b[0m\u001b[1;33m\u001b[0m\u001b[0m\n\u001b[0m\u001b[0;32m   1073\u001b[0m                 )\n\u001b[0;32m   1074\u001b[0m \u001b[1;33m\u001b[0m\u001b[0m\n",
      "\u001b[1;32mc:\\users\\hp\\appdata\\local\\programs\\python\\python37\\lib\\site-packages\\pandas\\io\\excel\\_base.py\u001b[0m in \u001b[0;36minspect_excel_format\u001b[1;34m(path, content, storage_options)\u001b[0m\n\u001b[0;32m    948\u001b[0m \u001b[1;33m\u001b[0m\u001b[0m\n\u001b[0;32m    949\u001b[0m     with get_handle(\n\u001b[1;32m--> 950\u001b[1;33m         \u001b[0mcontent_or_path\u001b[0m\u001b[1;33m,\u001b[0m \u001b[1;34m\"rb\"\u001b[0m\u001b[1;33m,\u001b[0m \u001b[0mstorage_options\u001b[0m\u001b[1;33m=\u001b[0m\u001b[0mstorage_options\u001b[0m\u001b[1;33m,\u001b[0m \u001b[0mis_text\u001b[0m\u001b[1;33m=\u001b[0m\u001b[1;32mFalse\u001b[0m\u001b[1;33m\u001b[0m\u001b[1;33m\u001b[0m\u001b[0m\n\u001b[0m\u001b[0;32m    951\u001b[0m     ) as handle:\n\u001b[0;32m    952\u001b[0m         \u001b[0mstream\u001b[0m \u001b[1;33m=\u001b[0m \u001b[0mhandle\u001b[0m\u001b[1;33m.\u001b[0m\u001b[0mhandle\u001b[0m\u001b[1;33m\u001b[0m\u001b[1;33m\u001b[0m\u001b[0m\n",
      "\u001b[1;32mc:\\users\\hp\\appdata\\local\\programs\\python\\python37\\lib\\site-packages\\pandas\\io\\common.py\u001b[0m in \u001b[0;36mget_handle\u001b[1;34m(path_or_buf, mode, encoding, compression, memory_map, is_text, errors, storage_options)\u001b[0m\n\u001b[0;32m    649\u001b[0m         \u001b[1;32melse\u001b[0m\u001b[1;33m:\u001b[0m\u001b[1;33m\u001b[0m\u001b[1;33m\u001b[0m\u001b[0m\n\u001b[0;32m    650\u001b[0m             \u001b[1;31m# Binary mode\u001b[0m\u001b[1;33m\u001b[0m\u001b[1;33m\u001b[0m\u001b[1;33m\u001b[0m\u001b[0m\n\u001b[1;32m--> 651\u001b[1;33m             \u001b[0mhandle\u001b[0m \u001b[1;33m=\u001b[0m \u001b[0mopen\u001b[0m\u001b[1;33m(\u001b[0m\u001b[0mhandle\u001b[0m\u001b[1;33m,\u001b[0m \u001b[0mioargs\u001b[0m\u001b[1;33m.\u001b[0m\u001b[0mmode\u001b[0m\u001b[1;33m)\u001b[0m\u001b[1;33m\u001b[0m\u001b[1;33m\u001b[0m\u001b[0m\n\u001b[0m\u001b[0;32m    652\u001b[0m         \u001b[0mhandles\u001b[0m\u001b[1;33m.\u001b[0m\u001b[0mappend\u001b[0m\u001b[1;33m(\u001b[0m\u001b[0mhandle\u001b[0m\u001b[1;33m)\u001b[0m\u001b[1;33m\u001b[0m\u001b[1;33m\u001b[0m\u001b[0m\n\u001b[0;32m    653\u001b[0m \u001b[1;33m\u001b[0m\u001b[0m\n",
      "\u001b[1;31mFileNotFoundError\u001b[0m: [Errno 2] No such file or directory: 'Path where the Excel file is stored\\\\File name.xlsx'"
     ]
    }
   ],
   "source": [
    "import pandas as pd\n",
    "\n",
    "df = pd.read_excel ('file.xlxs')\n",
    "print (df)"
   ]
  },
  {
   "cell_type": "markdown",
   "id": "d2cd87c9",
   "metadata": {},
   "source": [
    "## 3. Python program for Format data in excel sheet "
   ]
  },
  {
   "cell_type": "code",
   "execution_count": null,
   "id": "081fc773",
   "metadata": {},
   "outputs": [],
   "source": [
    "import xlsxwriter\n",
    "\n",
    " # Create a workbook and add a worksheet.\n",
    " workbook = xlsxwriter.Workbook('Expenses02.xlsx')\n",
    " worksheet = workbook.add_worksheet()\n",
    "\n",
    " # Add a bold format to use to highlight cells.\n",
    " bold = workbook.add_format({'bold': True})\n",
    "\n",
    " # Add a number format for cells with money.\n",
    " money = workbook.add_format({'num_format': '$#,##0'})\n",
    "\n",
    " # Write some data headers.\n",
    " worksheet.write('A1', 'Item', bold)\n",
    " worksheet.write('B1', 'Cost', bold)\n",
    "\n",
    " # Some data we want to write to the worksheet.\n",
    " expenses = (\n",
    "     ['Rent', 1000],\n",
    "     ['Gas',   100],\n",
    "     ['Food',  300],\n",
    "     ['Gym',    50],\n",
    " )\n",
    "\n",
    " # Start from the first cell below the headers.\n",
    " row = 1\n",
    " col = 0\n",
    "\n",
    " # Iterate over the data and write it out row by row.\n",
    " for item, cost in (expenses):\n",
    "     worksheet.write(row, col,     item)\n",
    "     worksheet.write(row, col + 1, cost, money)\n",
    "     row += 1\n",
    "\n",
    " # Write a total using a formula.\n",
    " worksheet.write(row, 0, 'Total',       bold)\n",
    " worksheet.write(row, 1, '=SUM(B2:B5)', money)\n",
    "\n",
    " workbook.close()\n",
    "    \n",
    "############################################\n",
    "\n",
    "# Add a bold format to use to highlight cells.\n",
    "bold = workbook.add_format({'bold': True})\n",
    "\n",
    "# Add a number format for cells with money.\n",
    "money = workbook.add_format({'num_format': '$#,##0'})"
   ]
  },
  {
   "cell_type": "markdown",
   "id": "5abe3951",
   "metadata": {},
   "source": [
    "## 4.  Python program for Prepare excel charts "
   ]
  },
  {
   "cell_type": "code",
   "execution_count": null,
   "id": "91974388",
   "metadata": {},
   "outputs": [],
   "source": [
    "# import openpyxl module\n",
    "import openpyxl\n",
    "\n",
    "# import BarChart class from openpyxl.chart sub_module\n",
    "from openpyxl.chart import BarChart,Reference\n",
    "\n",
    "# Call a Workbook() function of openpyxl\n",
    "# to create a new blank Workbook object\n",
    "wb = openpyxl.Workbook()\n",
    "\n",
    "# Get workbook active sheet\n",
    "# from the active attribute.\n",
    "sheet = wb.active\n",
    "\n",
    "# write o to 9 in 1st column of the active sheet\n",
    "for i in range(10):\n",
    "\tsheet.append([i])\n",
    "\n",
    "# create data for plotting\n",
    "values = Reference(sheet, min_col = 1, min_row = 1,\n",
    "\t\t\t\t\t\tmax_col = 1, max_row = 10)\n",
    "\n",
    "# Create object of BarChart class\n",
    "chart = BarChart()\n",
    "\n",
    "# adding data to the Bar chart object\n",
    "chart.add_data(values)\n",
    "\n",
    "# set the title of the chart\n",
    "chart.title = \" BAR-CHART \"\n",
    "\n",
    "# set the title of the x-axis\n",
    "chart.x_axis.title = \" X_AXIS \"\n",
    "\n",
    "# set the title of the y-axis\n",
    "chart.y_axis.title = \" Y_AXIS \"\n",
    "\n",
    "# add chart to the sheet\n",
    "# the top-left corner of a chart\n",
    "# is anchored to cell E2 .\n",
    "sheet.add_chart(chart, \"E2\")\n",
    "\n",
    "# save the file\n",
    "wb.save(\"barChart.xlsx\")\n"
   ]
  },
  {
   "cell_type": "markdown",
   "id": "5cadc641",
   "metadata": {},
   "source": [
    "## 5. Python program for Extract mobile no from PDF and MS word file and save into MS excel"
   ]
  },
  {
   "cell_type": "code",
   "execution_count": null,
   "id": "082d5212",
   "metadata": {},
   "outputs": [],
   "source": [
    "import PyPDF2\n",
    "\n",
    "pdffile = open(\"mkut-member-sample.pdf\",\"rb\")\n",
    "pdf = PyPDF2.PdfFileReader(pdffile)\n",
    "print(pdf.numPages)\n",
    "\n",
    "pageobj = pdf.getPage(0)\n",
    "print(pageobj.extractText())\n",
    "\n",
    "pdffile.close()"
   ]
  }
 ],
 "metadata": {
  "kernelspec": {
   "display_name": "Python 3",
   "language": "python",
   "name": "python3"
  },
  "language_info": {
   "codemirror_mode": {
    "name": "ipython",
    "version": 3
   },
   "file_extension": ".py",
   "mimetype": "text/x-python",
   "name": "python",
   "nbconvert_exporter": "python",
   "pygments_lexer": "ipython3",
   "version": "3.7.3"
  }
 },
 "nbformat": 4,
 "nbformat_minor": 5
}
